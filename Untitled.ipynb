{
 "cells": [
  {
   "cell_type": "code",
   "execution_count": null,
   "id": "04b46602",
   "metadata": {},
   "outputs": [],
   "source": [
    "import time\n",
    "\n",
    "def set_countdown():\n",
    "    seconds = int(input(\"Enter amount of seconds: \"))\n",
    "    print('Countdown starts now...')\n",
    "    temp = seconds\n",
    "    while temp != 0:\n",
    "        if temp != seconds:\n",
    "            print('\\b'*len(str(temp)), end='')\n",
    "        time.sleep(1)\n",
    "        temp -= 1\n",
    "        print(temp, end='')\n",
    "    print(\"\\nCountdown ended...\\n\")\n",
    "\n",
    "print(\"===== Welcome to Countdown Timer =====\")\n",
    "while 1:\n",
    "    choice = input(\"Do you want to set a countdown (y/n): \")\n",
    "    if 'y' in choice.lower():\n",
    "        set_countdown()\n",
    "    elif 'n' in choice.lower():\n",
    "        print('Exiting...')\n",
    "        break\n",
    "    else:\n",
    "        print('Invalid input...please try again')"
   ]
  },
  {
   "cell_type": "code",
   "execution_count": null,
   "id": "9a1dfcf2",
   "metadata": {},
   "outputs": [],
   "source": []
  }
 ],
 "metadata": {
  "kernelspec": {
   "display_name": "Python 3 (ipykernel)",
   "language": "python",
   "name": "python3"
  },
  "language_info": {
   "codemirror_mode": {
    "name": "ipython",
    "version": 3
   },
   "file_extension": ".py",
   "mimetype": "text/x-python",
   "name": "python",
   "nbconvert_exporter": "python",
   "pygments_lexer": "ipython3",
   "version": "3.9.12"
  }
 },
 "nbformat": 4,
 "nbformat_minor": 5
}
